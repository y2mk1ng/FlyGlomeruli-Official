{
 "cells": [
  {
   "cell_type": "code",
   "execution_count": null,
   "metadata": {
    "scrolled": false
   },
   "outputs": [
    {
     "name": "stderr",
     "output_type": "stream",
     "text": [
      "Using TensorFlow backend.\n",
      "WARNING: Logging before flag parsing goes to stderr.\n",
      "W1023 13:51:48.588000 13156 deprecation_wrapper.py:119] From C:\\Users\\Administrator\\Anaconda3\\envs\\tensorflow-gpu\\lib\\site-packages\\keras\\backend\\tensorflow_backend.py:74: The name tf.get_default_graph is deprecated. Please use tf.compat.v1.get_default_graph instead.\n",
      "\n",
      "W1023 13:51:48.598000 13156 deprecation_wrapper.py:119] From C:\\Users\\Administrator\\Anaconda3\\envs\\tensorflow-gpu\\lib\\site-packages\\keras\\backend\\tensorflow_backend.py:517: The name tf.placeholder is deprecated. Please use tf.compat.v1.placeholder instead.\n",
      "\n",
      "W1023 13:51:48.598000 13156 deprecation_wrapper.py:119] From C:\\Users\\Administrator\\Anaconda3\\envs\\tensorflow-gpu\\lib\\site-packages\\keras\\backend\\tensorflow_backend.py:4185: The name tf.truncated_normal is deprecated. Please use tf.random.truncated_normal instead.\n",
      "\n",
      "W1023 13:51:48.631000 13156 deprecation_wrapper.py:119] From C:\\Users\\Administrator\\Anaconda3\\envs\\tensorflow-gpu\\lib\\site-packages\\keras\\backend\\tensorflow_backend.py:3976: The name tf.nn.max_pool is deprecated. Please use tf.nn.max_pool2d instead.\n",
      "\n",
      "W1023 13:51:48.697999 13156 deprecation_wrapper.py:119] From C:\\Users\\Administrator\\Anaconda3\\envs\\tensorflow-gpu\\lib\\site-packages\\keras\\backend\\tensorflow_backend.py:133: The name tf.placeholder_with_default is deprecated. Please use tf.compat.v1.placeholder_with_default instead.\n",
      "\n",
      "W1023 13:51:48.697999 13156 deprecation.py:506] From C:\\Users\\Administrator\\Anaconda3\\envs\\tensorflow-gpu\\lib\\site-packages\\keras\\backend\\tensorflow_backend.py:3445: calling dropout (from tensorflow.python.ops.nn_ops) with keep_prob is deprecated and will be removed in a future version.\n",
      "Instructions for updating:\n",
      "Please use `rate` instead of `keep_prob`. Rate should be set to `rate = 1 - keep_prob`.\n",
      "W1023 13:51:48.756000 13156 deprecation_wrapper.py:119] From C:\\Users\\Administrator\\Anaconda3\\envs\\tensorflow-gpu\\lib\\site-packages\\keras\\backend\\tensorflow_backend.py:2018: The name tf.image.resize_nearest_neighbor is deprecated. Please use tf.compat.v1.image.resize_nearest_neighbor instead.\n",
      "\n"
     ]
    },
    {
     "name": "stdout",
     "output_type": "stream",
     "text": [
      "Training 01:\n"
     ]
    },
    {
     "name": "stderr",
     "output_type": "stream",
     "text": [
      "W1023 13:51:48.910000 13156 deprecation_wrapper.py:119] From C:\\Users\\Administrator\\Anaconda3\\envs\\tensorflow-gpu\\lib\\site-packages\\keras\\backend\\tensorflow_backend.py:4138: The name tf.random_uniform is deprecated. Please use tf.random.uniform instead.\n",
      "\n",
      "C:\\Users\\Administrator\\0-MachineLearning\\UNet512_TrainGlo2DZ\\model.py:55: UserWarning: Update your `Model` call to the Keras 2 API: `Model(inputs=Tensor(\"in..., outputs=Tensor(\"co...)`\n",
      "  model = Model(input = inputs, output = conv10)\n",
      "W1023 13:51:48.937000 13156 deprecation_wrapper.py:119] From C:\\Users\\Administrator\\Anaconda3\\envs\\tensorflow-gpu\\lib\\site-packages\\keras\\optimizers.py:790: The name tf.train.Optimizer is deprecated. Please use tf.compat.v1.train.Optimizer instead.\n",
      "\n",
      "W1023 13:51:48.945999 13156 deprecation.py:323] From C:\\Users\\Administrator\\Anaconda3\\envs\\tensorflow-gpu\\lib\\site-packages\\tensorflow\\python\\ops\\nn_impl.py:180: add_dispatch_support.<locals>.wrapper (from tensorflow.python.ops.array_ops) is deprecated and will be removed in a future version.\n",
      "Instructions for updating:\n",
      "Use tf.where in 2.0, which has the same broadcast rule as np.where\n"
     ]
    },
    {
     "name": "stdout",
     "output_type": "stream",
     "text": [
      "Epoch 1/10\n",
      "Found 70 images belonging to 1 classes.\n",
      "Found 70 images belonging to 1 classes.\n"
     ]
    }
   ],
   "source": [
    "import os\n",
    "os.environ['CUDA_VISIBLE_DEVICES']='0'\n",
    "import time\n",
    "from model import *\n",
    "from data import *\n",
    "#------------------------------------------------------------------------------\n",
    "# Initial setting\n",
    "#------------------------------------------------------------------------------\n",
    "sBF            = \"@BF123\"\n",
    "sDim           = \"2DZ\"\n",
    "sDate          = \"@July26-6_L\"\n",
    "iTime_Training = 10\n",
    "iBatchSize     = 1\n",
    "iStep          = 2000\n",
    "iEpoch         = 10\n",
    "#------------------------------------------------------------------------------\n",
    "# Inilization for variables\n",
    "#------------------------------------------------------------------------------\n",
    "sLable           = \"label\" + sBF\n",
    "sGlomerulus      = \"Glomerulus\" + sDim + sDate\n",
    "iStrLen_Training = len(str(iTime_Training))\n",
    "#------------------------------------------------------------------------------\n",
    "# Start training\n",
    "#------------------------------------------------------------------------------\n",
    "for i in range(iTime_Training):\n",
    "    tic = time.time()\n",
    "#--------------------------------------------------------------------\n",
    "# Generate running ID\n",
    "#--------------------------------------------------------------------\n",
    "    sID_Temp     = str(i + 1)\n",
    "    iStrLen_Temp = len(sID_Temp)   \n",
    "    sID_Now      = \"\"\n",
    "    for j in range(iStrLen_Training - iStrLen_Temp):\n",
    "      sID_Now = sID_Now + \"0\"\n",
    "    \n",
    "    sID_Now = sID_Now + sID_Temp\n",
    "#--------------------------------------------------------------------\n",
    "# Training @ ...\n",
    "#--------------------------------------------------------------------\n",
    "    sFileName_UNet = \"UNet_\" + sGlomerulus + sBF + \"-\" + sID_Now + \".hdf5\"\n",
    "\n",
    "    print(\"Training \" + sID_Now + \":\")\n",
    "\n",
    "    data_gen_args = dict(rotation_range=0.2,\n",
    "                         width_shift_range=0.05,\n",
    "                         height_shift_range=0.05,\n",
    "                         shear_range=0.05,\n",
    "                         zoom_range=0.05,\n",
    "                         horizontal_flip=True,\n",
    "                         fill_mode='nearest')\n",
    "    myGene = trainGenerator(iBatchSize, sGlomerulus, 'image', sLable, data_gen_args, save_to_dir = None)\n",
    "    model = unet()\n",
    "    model_checkpoint = ModelCheckpoint(sFileName_UNet, monitor='loss', verbose=1, save_best_only=True)\n",
    "    model.fit_generator(myGene, steps_per_epoch=iStep, epochs=iEpoch, callbacks=[model_checkpoint])\n",
    "#--------------------------------------------------------------------\n",
    "# Output training time\n",
    "#--------------------------------------------------------------------\n",
    "    toc = time.time()\n",
    "    print(\"  Used time = \" + str((toc-tic)) + \" sec\")\n",
    "#------------------------------------------------------------------------------\n",
    "# End of file\n",
    "#------------------------------------------------------------------------------"
   ]
  },
  {
   "cell_type": "code",
   "execution_count": null,
   "metadata": {},
   "outputs": [],
   "source": []
  },
  {
   "cell_type": "code",
   "execution_count": null,
   "metadata": {},
   "outputs": [],
   "source": []
  }
 ],
 "metadata": {
  "kernelspec": {
   "display_name": "Python 3",
   "language": "python",
   "name": "python3"
  },
  "language_info": {
   "codemirror_mode": {
    "name": "ipython",
    "version": 3
   },
   "file_extension": ".py",
   "mimetype": "text/x-python",
   "name": "python",
   "nbconvert_exporter": "python",
   "pygments_lexer": "ipython3",
   "version": "3.7.3"
  }
 },
 "nbformat": 4,
 "nbformat_minor": 2
}
